{
 "cells": [
  {
   "cell_type": "markdown",
   "metadata": {},
   "source": [
    "# Regularization and Optimization in Neural Networks\n",
    "\n",
    "## Regularization of NNs\n",
    "\n",
    "Does regularization make sense in the context of neural networks? <br/>\n",
    "\n",
    "Yes! We still have all of the salient ingredients: a loss function, overfitting vs. underfitting, and coefficients (weights) that could get too large.\n",
    "\n",
    "But there are now a few different flavors besides L1 and L2 regularization. (Note that L1 regularization is not common in the context of  neural networks.)"
   ]
  },
  {
   "cell_type": "code",
   "execution_count": 1,
   "metadata": {},
   "outputs": [
    {
     "name": "stderr",
     "output_type": "stream",
     "text": [
      "Using TensorFlow backend.\n"
     ]
    }
   ],
   "source": [
    "import pandas as pd\n",
    "from sklearn.model_selection import train_test_split\n",
    "from sklearn.preprocessing import StandardScaler\n",
    "from keras.models import Sequential\n",
    "from keras.layers import Dense\n",
    "from keras.utils import to_categorical\n",
    "from matplotlib import pyplot as plt\n",
    "%matplotlib inline"
   ]
  },
  {
   "cell_type": "code",
   "execution_count": 2,
   "metadata": {},
   "outputs": [
    {
     "data": {
      "text/html": [
       "<div>\n",
       "<style scoped>\n",
       "    .dataframe tbody tr th:only-of-type {\n",
       "        vertical-align: middle;\n",
       "    }\n",
       "\n",
       "    .dataframe tbody tr th {\n",
       "        vertical-align: top;\n",
       "    }\n",
       "\n",
       "    .dataframe thead th {\n",
       "        text-align: right;\n",
       "    }\n",
       "</style>\n",
       "<table border=\"1\" class=\"dataframe\">\n",
       "  <thead>\n",
       "    <tr style=\"text-align: right;\">\n",
       "      <th></th>\n",
       "      <th>fixed acidity</th>\n",
       "      <th>volatile acidity</th>\n",
       "      <th>citric acid</th>\n",
       "      <th>residual sugar</th>\n",
       "      <th>chlorides</th>\n",
       "      <th>free sulfur dioxide</th>\n",
       "      <th>total sulfur dioxide</th>\n",
       "      <th>density</th>\n",
       "      <th>pH</th>\n",
       "      <th>sulphates</th>\n",
       "      <th>alcohol</th>\n",
       "      <th>quality</th>\n",
       "      <th>red_wine</th>\n",
       "    </tr>\n",
       "  </thead>\n",
       "  <tbody>\n",
       "    <tr>\n",
       "      <th>0</th>\n",
       "      <td>7.4</td>\n",
       "      <td>0.70</td>\n",
       "      <td>0.00</td>\n",
       "      <td>1.9</td>\n",
       "      <td>0.076</td>\n",
       "      <td>11.0</td>\n",
       "      <td>34.0</td>\n",
       "      <td>0.9978</td>\n",
       "      <td>3.51</td>\n",
       "      <td>0.56</td>\n",
       "      <td>9.4</td>\n",
       "      <td>5</td>\n",
       "      <td>1</td>\n",
       "    </tr>\n",
       "    <tr>\n",
       "      <th>1</th>\n",
       "      <td>7.8</td>\n",
       "      <td>0.88</td>\n",
       "      <td>0.00</td>\n",
       "      <td>2.6</td>\n",
       "      <td>0.098</td>\n",
       "      <td>25.0</td>\n",
       "      <td>67.0</td>\n",
       "      <td>0.9968</td>\n",
       "      <td>3.20</td>\n",
       "      <td>0.68</td>\n",
       "      <td>9.8</td>\n",
       "      <td>5</td>\n",
       "      <td>1</td>\n",
       "    </tr>\n",
       "    <tr>\n",
       "      <th>2</th>\n",
       "      <td>7.8</td>\n",
       "      <td>0.76</td>\n",
       "      <td>0.04</td>\n",
       "      <td>2.3</td>\n",
       "      <td>0.092</td>\n",
       "      <td>15.0</td>\n",
       "      <td>54.0</td>\n",
       "      <td>0.9970</td>\n",
       "      <td>3.26</td>\n",
       "      <td>0.65</td>\n",
       "      <td>9.8</td>\n",
       "      <td>5</td>\n",
       "      <td>1</td>\n",
       "    </tr>\n",
       "    <tr>\n",
       "      <th>3</th>\n",
       "      <td>11.2</td>\n",
       "      <td>0.28</td>\n",
       "      <td>0.56</td>\n",
       "      <td>1.9</td>\n",
       "      <td>0.075</td>\n",
       "      <td>17.0</td>\n",
       "      <td>60.0</td>\n",
       "      <td>0.9980</td>\n",
       "      <td>3.16</td>\n",
       "      <td>0.58</td>\n",
       "      <td>9.8</td>\n",
       "      <td>6</td>\n",
       "      <td>1</td>\n",
       "    </tr>\n",
       "    <tr>\n",
       "      <th>4</th>\n",
       "      <td>7.4</td>\n",
       "      <td>0.70</td>\n",
       "      <td>0.00</td>\n",
       "      <td>1.9</td>\n",
       "      <td>0.076</td>\n",
       "      <td>11.0</td>\n",
       "      <td>34.0</td>\n",
       "      <td>0.9978</td>\n",
       "      <td>3.51</td>\n",
       "      <td>0.56</td>\n",
       "      <td>9.4</td>\n",
       "      <td>5</td>\n",
       "      <td>1</td>\n",
       "    </tr>\n",
       "  </tbody>\n",
       "</table>\n",
       "</div>"
      ],
      "text/plain": [
       "   fixed acidity  volatile acidity  citric acid  residual sugar  chlorides  \\\n",
       "0            7.4              0.70         0.00             1.9      0.076   \n",
       "1            7.8              0.88         0.00             2.6      0.098   \n",
       "2            7.8              0.76         0.04             2.3      0.092   \n",
       "3           11.2              0.28         0.56             1.9      0.075   \n",
       "4            7.4              0.70         0.00             1.9      0.076   \n",
       "\n",
       "   free sulfur dioxide  total sulfur dioxide  density    pH  sulphates  \\\n",
       "0                 11.0                  34.0   0.9978  3.51       0.56   \n",
       "1                 25.0                  67.0   0.9968  3.20       0.68   \n",
       "2                 15.0                  54.0   0.9970  3.26       0.65   \n",
       "3                 17.0                  60.0   0.9980  3.16       0.58   \n",
       "4                 11.0                  34.0   0.9978  3.51       0.56   \n",
       "\n",
       "   alcohol  quality  red_wine  \n",
       "0      9.4        5         1  \n",
       "1      9.8        5         1  \n",
       "2      9.8        5         1  \n",
       "3      9.8        6         1  \n",
       "4      9.4        5         1  "
      ]
     },
     "execution_count": 2,
     "metadata": {},
     "output_type": "execute_result"
    }
   ],
   "source": [
    "# Reading in the dataset\n",
    "\n",
    "wine = pd.read_csv('wine.csv')\n",
    "wine.head()"
   ]
  },
  {
   "cell_type": "code",
   "execution_count": 3,
   "metadata": {},
   "outputs": [
    {
     "data": {
      "text/plain": [
       "6    2836\n",
       "5    2138\n",
       "7    1079\n",
       "4     216\n",
       "8     193\n",
       "3      30\n",
       "9       5\n",
       "Name: quality, dtype: int64"
      ]
     },
     "execution_count": 3,
     "metadata": {},
     "output_type": "execute_result"
    }
   ],
   "source": [
    "# Investigating our target\n",
    "\n",
    "wine['quality'].value_counts()"
   ]
  },
  {
   "cell_type": "code",
   "execution_count": 4,
   "metadata": {},
   "outputs": [],
   "source": [
    "# Re-calibrating\n",
    "\n",
    "wine['quality'] = wine['quality'].map(lambda x: x-3)"
   ]
  },
  {
   "cell_type": "code",
   "execution_count": 5,
   "metadata": {},
   "outputs": [],
   "source": [
    "# Defining X and y\n",
    "\n",
    "X = wine.drop('quality', axis=1)\n",
    "y = wine['quality']"
   ]
  },
  {
   "cell_type": "code",
   "execution_count": 6,
   "metadata": {},
   "outputs": [
    {
     "data": {
      "text/plain": [
       "3    2836\n",
       "2    2138\n",
       "4    1079\n",
       "1     216\n",
       "5     193\n",
       "0      30\n",
       "6       5\n",
       "Name: quality, dtype: int64"
      ]
     },
     "execution_count": 6,
     "metadata": {},
     "output_type": "execute_result"
    }
   ],
   "source": [
    "wine['quality'].value_counts()"
   ]
  },
  {
   "cell_type": "code",
   "execution_count": 7,
   "metadata": {
    "scrolled": true
   },
   "outputs": [
    {
     "name": "stderr",
     "output_type": "stream",
     "text": [
      "/anaconda3/lib/python3.7/site-packages/sklearn/preprocessing/data.py:625: DataConversionWarning: Data with input dtype int64, float64 were all converted to float64 by StandardScaler.\n",
      "  return self.partial_fit(X, y)\n",
      "/anaconda3/lib/python3.7/site-packages/sklearn/base.py:462: DataConversionWarning: Data with input dtype int64, float64 were all converted to float64 by StandardScaler.\n",
      "  return self.fit(X, **fit_params).transform(X)\n",
      "/anaconda3/lib/python3.7/site-packages/ipykernel_launcher.py:7: DataConversionWarning: Data with input dtype int64, float64 were all converted to float64 by StandardScaler.\n",
      "  import sys\n"
     ]
    }
   ],
   "source": [
    "# Splitting and scaling\n",
    "\n",
    "X_train, X_test, y_train, y_test = train_test_split(X, y, random_state=42, stratify=y)\n",
    "\n",
    "ss = StandardScaler()\n",
    "X_train_s = ss.fit_transform(X_train)\n",
    "X_test_s = ss.transform(X_test)"
   ]
  },
  {
   "cell_type": "code",
   "execution_count": 8,
   "metadata": {},
   "outputs": [
    {
     "data": {
      "text/plain": [
       "139     2\n",
       "5010    3\n",
       "Name: quality, dtype: int64"
      ]
     },
     "execution_count": 8,
     "metadata": {},
     "output_type": "execute_result"
    }
   ],
   "source": [
    "y_train[:2]"
   ]
  },
  {
   "cell_type": "code",
   "execution_count": 9,
   "metadata": {},
   "outputs": [],
   "source": [
    "# Encoding our target\n",
    "\n",
    "y_train = to_categorical(y_train)\n",
    "y_test = to_categorical(y_test)"
   ]
  },
  {
   "cell_type": "code",
   "execution_count": 10,
   "metadata": {},
   "outputs": [
    {
     "name": "stdout",
     "output_type": "stream",
     "text": [
      "WARNING:tensorflow:From /anaconda3/lib/python3.7/site-packages/tensorflow/python/framework/op_def_library.py:263: colocate_with (from tensorflow.python.framework.ops) is deprecated and will be removed in a future version.\n",
      "Instructions for updating:\n",
      "Colocations handled automatically by placer.\n"
     ]
    }
   ],
   "source": [
    "# Constructing our model\n",
    "\n",
    "model = Sequential()\n",
    "n_input = X_train_s.shape[1]\n",
    "n_hidden = n_input\n",
    "\n",
    "model.add(Dense(n_hidden, input_dim=n_input, activation='relu'))\n",
    "\n",
    "# We want to predict probabilities, so we'll use a softmax activation\n",
    "\n",
    "model.add(Dense(7, activation='softmax'))"
   ]
  },
  {
   "cell_type": "code",
   "execution_count": 11,
   "metadata": {},
   "outputs": [],
   "source": [
    "# Compiling\n",
    "# We want to use categorical crossentropy as our optimizer\n",
    "\n",
    "model.compile(loss='categorical_crossentropy', optimizer='adam', metrics=['accuracy'])\n"
   ]
  },
  {
   "cell_type": "code",
   "execution_count": 12,
   "metadata": {},
   "outputs": [
    {
     "name": "stdout",
     "output_type": "stream",
     "text": [
      "WARNING:tensorflow:From /anaconda3/lib/python3.7/site-packages/tensorflow/python/ops/math_ops.py:3066: to_int32 (from tensorflow.python.ops.math_ops) is deprecated and will be removed in a future version.\n",
      "Instructions for updating:\n",
      "Use tf.cast instead.\n",
      "Train on 4872 samples, validate on 1625 samples\n",
      "Epoch 1/42\n",
      "4872/4872 [==============================] - 0s 77us/step - loss: 1.6959 - acc: 0.3578 - val_loss: 1.4342 - val_acc: 0.4665\n",
      "Epoch 2/42\n",
      "4872/4872 [==============================] - 0s 42us/step - loss: 1.3041 - acc: 0.4928 - val_loss: 1.2491 - val_acc: 0.5114\n",
      "Epoch 3/42\n",
      "4872/4872 [==============================] - 0s 38us/step - loss: 1.1901 - acc: 0.5255 - val_loss: 1.1857 - val_acc: 0.5286\n",
      "Epoch 4/42\n",
      "4872/4872 [==============================] - 0s 42us/step - loss: 1.1456 - acc: 0.5326 - val_loss: 1.1525 - val_acc: 0.5280\n",
      "Epoch 5/42\n",
      "4872/4872 [==============================] - 0s 39us/step - loss: 1.1186 - acc: 0.5353 - val_loss: 1.1324 - val_acc: 0.5231\n",
      "Epoch 6/42\n",
      "4872/4872 [==============================] - 0s 41us/step - loss: 1.1008 - acc: 0.5388 - val_loss: 1.1189 - val_acc: 0.5237\n",
      "Epoch 7/42\n",
      "4872/4872 [==============================] - 0s 36us/step - loss: 1.0874 - acc: 0.5501 - val_loss: 1.1089 - val_acc: 0.5280\n",
      "Epoch 8/42\n",
      "4872/4872 [==============================] - 0s 37us/step - loss: 1.0782 - acc: 0.5528 - val_loss: 1.1020 - val_acc: 0.5329\n",
      "Epoch 9/42\n",
      "4872/4872 [==============================] - 0s 38us/step - loss: 1.0711 - acc: 0.5523 - val_loss: 1.0980 - val_acc: 0.5391\n",
      "Epoch 10/42\n",
      "4872/4872 [==============================] - 0s 39us/step - loss: 1.0655 - acc: 0.5540 - val_loss: 1.0952 - val_acc: 0.5446\n",
      "Epoch 11/42\n",
      "4872/4872 [==============================] - 0s 36us/step - loss: 1.0602 - acc: 0.5532 - val_loss: 1.0917 - val_acc: 0.5434\n",
      "Epoch 12/42\n",
      "4872/4872 [==============================] - 0s 40us/step - loss: 1.0559 - acc: 0.5569 - val_loss: 1.0878 - val_acc: 0.5434\n",
      "Epoch 13/42\n",
      "4872/4872 [==============================] - 0s 37us/step - loss: 1.0531 - acc: 0.5523 - val_loss: 1.0859 - val_acc: 0.5477\n",
      "Epoch 14/42\n",
      "4872/4872 [==============================] - 0s 35us/step - loss: 1.0499 - acc: 0.5546 - val_loss: 1.0845 - val_acc: 0.5520\n",
      "Epoch 15/42\n",
      "4872/4872 [==============================] - 0s 37us/step - loss: 1.0487 - acc: 0.5540 - val_loss: 1.0854 - val_acc: 0.5514\n",
      "Epoch 16/42\n",
      "4872/4872 [==============================] - 0s 37us/step - loss: 1.0455 - acc: 0.5546 - val_loss: 1.0822 - val_acc: 0.5557\n",
      "Epoch 17/42\n",
      "4872/4872 [==============================] - 0s 37us/step - loss: 1.0441 - acc: 0.5548 - val_loss: 1.0808 - val_acc: 0.5557\n",
      "Epoch 18/42\n",
      "4872/4872 [==============================] - 0s 39us/step - loss: 1.0427 - acc: 0.5542 - val_loss: 1.0802 - val_acc: 0.5502\n",
      "Epoch 19/42\n",
      "4872/4872 [==============================] - 0s 36us/step - loss: 1.0420 - acc: 0.5593 - val_loss: 1.0802 - val_acc: 0.5551\n",
      "Epoch 20/42\n",
      "4872/4872 [==============================] - 0s 37us/step - loss: 1.0400 - acc: 0.5589 - val_loss: 1.0769 - val_acc: 0.5502\n",
      "Epoch 21/42\n",
      "4872/4872 [==============================] - 0s 34us/step - loss: 1.0389 - acc: 0.5571 - val_loss: 1.0778 - val_acc: 0.5538\n",
      "Epoch 22/42\n",
      "4872/4872 [==============================] - 0s 37us/step - loss: 1.0372 - acc: 0.5587 - val_loss: 1.0777 - val_acc: 0.5465\n",
      "Epoch 23/42\n",
      "4872/4872 [==============================] - 0s 39us/step - loss: 1.0365 - acc: 0.5589 - val_loss: 1.0765 - val_acc: 0.5551\n",
      "Epoch 24/42\n",
      "4872/4872 [==============================] - 0s 36us/step - loss: 1.0349 - acc: 0.5599 - val_loss: 1.0750 - val_acc: 0.5495\n",
      "Epoch 25/42\n",
      "4872/4872 [==============================] - 0s 37us/step - loss: 1.0340 - acc: 0.5573 - val_loss: 1.0754 - val_acc: 0.5514\n",
      "Epoch 26/42\n",
      "4872/4872 [==============================] - 0s 39us/step - loss: 1.0339 - acc: 0.5569 - val_loss: 1.0740 - val_acc: 0.5483\n",
      "Epoch 27/42\n",
      "4872/4872 [==============================] - 0s 39us/step - loss: 1.0322 - acc: 0.5614 - val_loss: 1.0731 - val_acc: 0.5532\n",
      "Epoch 28/42\n",
      "4872/4872 [==============================] - 0s 39us/step - loss: 1.0318 - acc: 0.5593 - val_loss: 1.0715 - val_acc: 0.5526\n",
      "Epoch 29/42\n",
      "4872/4872 [==============================] - 0s 37us/step - loss: 1.0307 - acc: 0.5575 - val_loss: 1.0702 - val_acc: 0.5520\n",
      "Epoch 30/42\n",
      "4872/4872 [==============================] - 0s 40us/step - loss: 1.0304 - acc: 0.5560 - val_loss: 1.0709 - val_acc: 0.5514\n",
      "Epoch 31/42\n",
      "4872/4872 [==============================] - 0s 39us/step - loss: 1.0292 - acc: 0.5569 - val_loss: 1.0711 - val_acc: 0.5489\n",
      "Epoch 32/42\n",
      "4872/4872 [==============================] - 0s 36us/step - loss: 1.0285 - acc: 0.5610 - val_loss: 1.0696 - val_acc: 0.5545\n",
      "Epoch 33/42\n",
      "4872/4872 [==============================] - 0s 38us/step - loss: 1.0280 - acc: 0.5585 - val_loss: 1.0691 - val_acc: 0.5545\n",
      "Epoch 34/42\n",
      "4872/4872 [==============================] - 0s 41us/step - loss: 1.0274 - acc: 0.5550 - val_loss: 1.0706 - val_acc: 0.5502\n",
      "Epoch 35/42\n",
      "4872/4872 [==============================] - 0s 36us/step - loss: 1.0264 - acc: 0.5606 - val_loss: 1.0676 - val_acc: 0.5526\n",
      "Epoch 36/42\n",
      "4872/4872 [==============================] - 0s 33us/step - loss: 1.0263 - acc: 0.5601 - val_loss: 1.0675 - val_acc: 0.5526\n",
      "Epoch 37/42\n",
      "4872/4872 [==============================] - 0s 33us/step - loss: 1.0254 - acc: 0.5599 - val_loss: 1.0689 - val_acc: 0.5526\n",
      "Epoch 38/42\n",
      "4872/4872 [==============================] - 0s 34us/step - loss: 1.0248 - acc: 0.5628 - val_loss: 1.0686 - val_acc: 0.5465\n",
      "Epoch 39/42\n",
      "4872/4872 [==============================] - 0s 34us/step - loss: 1.0247 - acc: 0.5583 - val_loss: 1.0667 - val_acc: 0.5545\n",
      "Epoch 40/42\n",
      "4872/4872 [==============================] - 0s 34us/step - loss: 1.0232 - acc: 0.5606 - val_loss: 1.0655 - val_acc: 0.5538\n",
      "Epoch 41/42\n",
      "4872/4872 [==============================] - 0s 36us/step - loss: 1.0222 - acc: 0.5626 - val_loss: 1.0637 - val_acc: 0.5520\n",
      "Epoch 42/42\n",
      "4872/4872 [==============================] - 0s 37us/step - loss: 1.0219 - acc: 0.5591 - val_loss: 1.0663 - val_acc: 0.5483\n"
     ]
    }
   ],
   "source": [
    "# Fitting and saving the history log\n",
    "\n",
    "history_log = model.fit(X_train_s, y_train, validation_data=(X_test_s, y_test),\n",
    "                        epochs=42, batch_size=None)\n"
   ]
  },
  {
   "cell_type": "code",
   "execution_count": 13,
   "metadata": {},
   "outputs": [
    {
     "name": "stdout",
     "output_type": "stream",
     "text": [
      "[array([[-0.6143038 , -0.1294381 , -0.27976307, -0.24482104, -0.15723272,\n",
      "        -0.653408  ,  0.05367924, -0.393526  ,  0.56513107, -0.12050072,\n",
      "        -0.08329884,  0.19685344],\n",
      "       [-0.80252427, -0.14934382, -0.21974683, -0.09327712,  0.7114964 ,\n",
      "         0.2539546 , -0.93600976, -0.35097   , -0.23827527,  0.15913203,\n",
      "         0.04320796,  0.02641274],\n",
      "       [-0.19249189,  0.32943445, -0.07125705, -0.15819804,  0.0528984 ,\n",
      "         0.3190246 ,  0.13477063, -0.03966689, -0.20520793,  0.017944  ,\n",
      "        -0.12274869, -0.14087197],\n",
      "       [ 0.10722096,  0.09535525,  0.1822703 , -0.26287386, -0.36867437,\n",
      "         0.19389819,  0.29810712, -0.2879937 , -0.4452668 , -1.0323299 ,\n",
      "         0.03925598,  0.01772426],\n",
      "       [-0.02362515,  0.04294649,  0.08892897,  0.10667145,  0.2962042 ,\n",
      "        -0.28182247, -0.01878973, -0.5099213 ,  0.4634575 , -0.23103103,\n",
      "        -0.03314757, -0.19895037],\n",
      "       [ 0.46463326, -0.12332946, -0.07905484, -0.6028032 ,  0.08192582,\n",
      "         0.30456436, -0.33037418,  0.01564604, -0.05139529, -0.7867762 ,\n",
      "         0.42324808,  0.3276006 ],\n",
      "       [ 0.20294861,  0.42673334, -0.5338312 ,  0.13516891,  0.55345   ,\n",
      "         0.07167205,  0.32509318,  0.44703022,  0.19669904,  0.3242347 ,\n",
      "        -0.06046256, -0.5123346 ],\n",
      "       [ 0.2390571 , -0.60382897,  0.20654382, -0.14192678,  0.22929098,\n",
      "         0.10423113,  0.35036373, -0.21515849, -0.01882835,  0.03630977,\n",
      "         0.04614953, -0.639199  ],\n",
      "       [-0.39482945,  0.15731525,  0.46745563, -0.17035525,  0.12972198,\n",
      "        -0.03760625, -0.45349407, -0.16661428, -0.1550712 , -0.71378887,\n",
      "         0.04964848,  0.27482653],\n",
      "       [-0.3056482 ,  0.15930118, -0.35165548,  0.00665009, -0.1714681 ,\n",
      "         0.29500517,  0.3080463 , -0.19735216,  0.22916272,  0.35308322,\n",
      "        -0.6098574 ,  0.60453606],\n",
      "       [ 0.09573878,  0.44166106, -0.15112135,  0.48668513, -0.65244883,\n",
      "        -0.34125414, -0.26712146,  0.19490136, -0.00154893, -0.21058239,\n",
      "        -0.3409536 ,  0.3624608 ],\n",
      "       [-0.8129483 , -0.17416294,  0.6946275 , -0.21809633,  0.18955433,\n",
      "         0.6639518 ,  0.7632032 , -0.22204176,  0.5978819 , -0.73399436,\n",
      "         0.3381882 ,  0.21990912]], dtype=float32), array([0.58501846, 0.1529123 , 0.542115  , 0.04648446, 0.87162703,\n",
      "       0.3467686 , 0.3491212 , 0.29601708, 0.2642701 , 0.6772113 ,\n",
      "       0.01442833, 0.49239   ], dtype=float32)]\n",
      "[array([[-0.6208875 , -0.7358841 , -0.10913301,  0.49627763,  0.18334787,\n",
      "         0.27834004, -0.9556456 ],\n",
      "       [-0.24278478, -0.68289787, -0.51751035,  0.41887915,  0.27045947,\n",
      "         0.62482214,  0.19182388],\n",
      "       [-0.29605967,  0.28974795,  0.4716905 ,  0.5789259 ,  0.10019745,\n",
      "        -0.5048907 , -0.6595023 ],\n",
      "       [-0.43220654,  0.4827219 ,  0.02185592, -0.28601164, -0.23776986,\n",
      "         0.31571844, -0.1692081 ],\n",
      "       [ 0.29523075,  0.594331  ,  0.38807327, -0.09261006, -0.5273935 ,\n",
      "        -1.1046348 , -1.7005781 ],\n",
      "       [ 0.04910874, -0.3388914 ,  0.6878951 ,  0.29991135, -0.21650024,\n",
      "        -0.10870586, -0.83041215],\n",
      "       [-0.58070827,  0.16903645,  0.12009422,  0.09051565,  0.6259571 ,\n",
      "         0.08330907, -0.6593755 ],\n",
      "       [ 0.04471834, -0.38999572,  0.26275754, -0.05548968,  0.5288054 ,\n",
      "        -0.2711889 , -0.21061686],\n",
      "       [ 0.14233789, -0.874359  ,  0.04597371,  0.11979154, -0.32590875,\n",
      "        -0.36044833, -1.2687958 ],\n",
      "       [-0.41183338,  0.38838914,  0.43184343,  0.2058121 , -0.4561406 ,\n",
      "        -0.9495736 , -1.1602474 ],\n",
      "       [-0.3173776 ,  0.2176946 ,  0.28098494, -0.3761272 , -0.73110104,\n",
      "         0.11466714,  0.28353974],\n",
      "       [-0.60779214, -0.29304567, -0.55654263,  0.07348224,  0.7663349 ,\n",
      "         0.47654948,  0.16343327]], dtype=float32), array([-0.5981996 , -0.11658821,  0.26439896,  0.4132821 ,  0.01506385,\n",
      "       -0.39678797, -0.44120887], dtype=float32)]\n"
     ]
    }
   ],
   "source": [
    "# Extracting weights\n",
    "\n",
    "for layer in model.layers:\n",
    "    print(layer.get_weights())"
   ]
  },
  {
   "cell_type": "code",
   "execution_count": 14,
   "metadata": {
    "scrolled": false
   },
   "outputs": [
    {
     "data": {
      "text/plain": [
       "array([[0.  , 0.  , 0.64, 0.36, 0.  , 0.  , 0.  ],\n",
       "       [0.01, 0.02, 0.63, 0.31, 0.03, 0.  , 0.  ],\n",
       "       [0.01, 0.03, 0.36, 0.55, 0.06, 0.  , 0.  ],\n",
       "       [0.  , 0.01, 0.2 , 0.49, 0.29, 0.01, 0.  ],\n",
       "       [0.  , 0.01, 0.15, 0.54, 0.29, 0.01, 0.  ]], dtype=float32)"
      ]
     },
     "execution_count": 14,
     "metadata": {},
     "output_type": "execute_result"
    }
   ],
   "source": [
    "# Predicting on some test data\n",
    "\n",
    "model.predict(X_test_s[:5]).round(2)"
   ]
  },
  {
   "cell_type": "code",
   "execution_count": 15,
   "metadata": {},
   "outputs": [
    {
     "data": {
      "text/plain": [
       "array([[0., 1., 0., 0., 0., 0., 0.],\n",
       "       [0., 0., 1., 0., 0., 0., 0.],\n",
       "       [0., 0., 0., 1., 0., 0., 0.],\n",
       "       [0., 0., 0., 1., 0., 0., 0.],\n",
       "       [0., 0., 0., 0., 0., 1., 0.]], dtype=float32)"
      ]
     },
     "execution_count": 15,
     "metadata": {},
     "output_type": "execute_result"
    }
   ],
   "source": [
    "# Comparing with reality\n",
    "\n",
    "y_test[:5]"
   ]
  },
  {
   "cell_type": "code",
   "execution_count": 16,
   "metadata": {},
   "outputs": [
    {
     "data": {
      "image/png": "[encoded data removed]",
      "text/plain": [
       "<Figure size 432x288 with 1 Axes>"
      ]
     },
     "metadata": {
      "needs_background": "light"
     },
     "output_type": "display_data"
    }
   ],
   "source": [
    "# Plotting\n",
    "\n",
    "plt.plot(history_log.history['loss'], label='Train Loss')\n",
    "plt.plot(history_log.history['val_loss'], label='Testing Loss')\n",
    "plt.legend();"
   ]
  },
  {
   "cell_type": "markdown",
   "metadata": {},
   "source": [
    "## Adding Regularization"
   ]
  },
  {
   "cell_type": "code",
   "execution_count": 17,
   "metadata": {},
   "outputs": [
    {
     "name": "stdout",
     "output_type": "stream",
     "text": [
      "Train on 4872 samples, validate on 1625 samples\n",
      "Epoch 1/42\n",
      "4872/4872 [==============================] - 0s 92us/step - loss: 2.0884 - acc: 0.2752 - val_loss: 1.7871 - val_acc: 0.4142\n",
      "Epoch 2/42\n",
      "4872/4872 [==============================] - 0s 40us/step - loss: 1.6330 - acc: 0.4538 - val_loss: 1.5304 - val_acc: 0.4732\n",
      "Epoch 3/42\n",
      "4872/4872 [==============================] - 0s 43us/step - loss: 1.4426 - acc: 0.4977 - val_loss: 1.4075 - val_acc: 0.4948\n",
      "Epoch 4/42\n",
      "4872/4872 [==============================] - 0s 40us/step - loss: 1.3502 - acc: 0.5142 - val_loss: 1.3456 - val_acc: 0.5175\n",
      "Epoch 5/42\n",
      "4872/4872 [==============================] - 0s 36us/step - loss: 1.3000 - acc: 0.5265 - val_loss: 1.3070 - val_acc: 0.5280\n",
      "Epoch 6/42\n",
      "4872/4872 [==============================] - 0s 39us/step - loss: 1.2673 - acc: 0.5388 - val_loss: 1.2783 - val_acc: 0.5360\n",
      "Epoch 7/42\n",
      "4872/4872 [==============================] - 0s 40us/step - loss: 1.2432 - acc: 0.5435 - val_loss: 1.2564 - val_acc: 0.5391\n",
      "Epoch 8/42\n",
      "4872/4872 [==============================] - 0s 37us/step - loss: 1.2243 - acc: 0.5476 - val_loss: 1.2384 - val_acc: 0.5385\n",
      "Epoch 9/42\n",
      "4872/4872 [==============================] - 0s 39us/step - loss: 1.2095 - acc: 0.5507 - val_loss: 1.2239 - val_acc: 0.5434\n",
      "Epoch 10/42\n",
      "4872/4872 [==============================] - 0s 39us/step - loss: 1.1985 - acc: 0.5497 - val_loss: 1.2127 - val_acc: 0.5458\n",
      "Epoch 11/42\n",
      "4872/4872 [==============================] - 0s 37us/step - loss: 1.1891 - acc: 0.5478 - val_loss: 1.2025 - val_acc: 0.5465\n",
      "Epoch 12/42\n",
      "4872/4872 [==============================] - 0s 38us/step - loss: 1.1811 - acc: 0.5509 - val_loss: 1.1946 - val_acc: 0.5465\n",
      "Epoch 13/42\n",
      "4872/4872 [==============================] - 0s 39us/step - loss: 1.1747 - acc: 0.5534 - val_loss: 1.1874 - val_acc: 0.5403\n",
      "Epoch 14/42\n",
      "4872/4872 [==============================] - 0s 39us/step - loss: 1.1692 - acc: 0.5558 - val_loss: 1.1838 - val_acc: 0.5415\n",
      "Epoch 15/42\n",
      "4872/4872 [==============================] - 0s 40us/step - loss: 1.1647 - acc: 0.5491 - val_loss: 1.1777 - val_acc: 0.5483\n",
      "Epoch 16/42\n",
      "4872/4872 [==============================] - 0s 37us/step - loss: 1.1610 - acc: 0.5544 - val_loss: 1.1728 - val_acc: 0.5446\n",
      "Epoch 17/42\n",
      "4872/4872 [==============================] - 0s 38us/step - loss: 1.1576 - acc: 0.5517 - val_loss: 1.1706 - val_acc: 0.5378\n",
      "Epoch 18/42\n",
      "4872/4872 [==============================] - 0s 42us/step - loss: 1.1549 - acc: 0.5540 - val_loss: 1.1672 - val_acc: 0.5422\n",
      "Epoch 19/42\n",
      "4872/4872 [==============================] - 0s 39us/step - loss: 1.1525 - acc: 0.5530 - val_loss: 1.1656 - val_acc: 0.5409\n",
      "Epoch 20/42\n",
      "4872/4872 [==============================] - 0s 38us/step - loss: 1.1508 - acc: 0.5532 - val_loss: 1.1633 - val_acc: 0.5409\n",
      "Epoch 21/42\n",
      "4872/4872 [==============================] - 0s 39us/step - loss: 1.1493 - acc: 0.5534 - val_loss: 1.1609 - val_acc: 0.5409\n",
      "Epoch 22/42\n",
      "4872/4872 [==============================] - 0s 39us/step - loss: 1.1475 - acc: 0.5513 - val_loss: 1.1581 - val_acc: 0.5428\n",
      "Epoch 23/42\n",
      "4872/4872 [==============================] - 0s 40us/step - loss: 1.1460 - acc: 0.5528 - val_loss: 1.1580 - val_acc: 0.5403\n",
      "Epoch 24/42\n",
      "4872/4872 [==============================] - 0s 37us/step - loss: 1.1449 - acc: 0.5534 - val_loss: 1.1575 - val_acc: 0.5391\n",
      "Epoch 25/42\n",
      "4872/4872 [==============================] - 0s 39us/step - loss: 1.1437 - acc: 0.5519 - val_loss: 1.1551 - val_acc: 0.5409\n",
      "Epoch 26/42\n",
      "4872/4872 [==============================] - 0s 39us/step - loss: 1.1424 - acc: 0.5567 - val_loss: 1.1548 - val_acc: 0.5415\n",
      "Epoch 27/42\n",
      "4872/4872 [==============================] - 0s 37us/step - loss: 1.1416 - acc: 0.5569 - val_loss: 1.1542 - val_acc: 0.5391\n",
      "Epoch 28/42\n",
      "4872/4872 [==============================] - 0s 41us/step - loss: 1.1408 - acc: 0.5542 - val_loss: 1.1514 - val_acc: 0.5422\n",
      "Epoch 29/42\n",
      "4872/4872 [==============================] - 0s 40us/step - loss: 1.1396 - acc: 0.5558 - val_loss: 1.1517 - val_acc: 0.5415\n",
      "Epoch 30/42\n",
      "4872/4872 [==============================] - 0s 38us/step - loss: 1.1390 - acc: 0.5538 - val_loss: 1.1501 - val_acc: 0.5415\n",
      "Epoch 31/42\n",
      "4872/4872 [==============================] - 0s 40us/step - loss: 1.1383 - acc: 0.5540 - val_loss: 1.1496 - val_acc: 0.5428\n",
      "Epoch 32/42\n",
      "4872/4872 [==============================] - 0s 40us/step - loss: 1.1381 - acc: 0.5519 - val_loss: 1.1484 - val_acc: 0.5372\n",
      "Epoch 33/42\n",
      "4872/4872 [==============================] - 0s 39us/step - loss: 1.1368 - acc: 0.5546 - val_loss: 1.1478 - val_acc: 0.5397\n",
      "Epoch 34/42\n",
      "4872/4872 [==============================] - 0s 38us/step - loss: 1.1361 - acc: 0.5544 - val_loss: 1.1479 - val_acc: 0.5366\n",
      "Epoch 35/42\n",
      "4872/4872 [==============================] - 0s 38us/step - loss: 1.1357 - acc: 0.5540 - val_loss: 1.1458 - val_acc: 0.5378\n",
      "Epoch 36/42\n",
      "4872/4872 [==============================] - 0s 40us/step - loss: 1.1354 - acc: 0.5509 - val_loss: 1.1460 - val_acc: 0.5378\n",
      "Epoch 37/42\n",
      "4872/4872 [==============================] - 0s 35us/step - loss: 1.1343 - acc: 0.5542 - val_loss: 1.1481 - val_acc: 0.5286\n",
      "Epoch 38/42\n",
      "4872/4872 [==============================] - 0s 35us/step - loss: 1.1345 - acc: 0.5534 - val_loss: 1.1442 - val_acc: 0.5391\n",
      "Epoch 39/42\n",
      "4872/4872 [==============================] - 0s 35us/step - loss: 1.1337 - acc: 0.5567 - val_loss: 1.1458 - val_acc: 0.5360\n",
      "Epoch 40/42\n",
      "4872/4872 [==============================] - 0s 34us/step - loss: 1.1338 - acc: 0.5497 - val_loss: 1.1449 - val_acc: 0.5397\n",
      "Epoch 41/42\n",
      "4872/4872 [==============================] - 0s 35us/step - loss: 1.1328 - acc: 0.5528 - val_loss: 1.1444 - val_acc: 0.5391\n",
      "Epoch 42/42\n",
      "4872/4872 [==============================] - 0s 37us/step - loss: 1.1333 - acc: 0.5525 - val_loss: 1.1425 - val_acc: 0.5415\n"
     ]
    }
   ],
   "source": [
    "from keras import regularizers\n",
    "\n",
    "model_r = Sequential()\n",
    "\n",
    "n_input = X_train_s.shape[1]\n",
    "n_hidden = n_input\n",
    "\n",
    "model_r.add(Dense(n_hidden, input_dim=n_input, activation='relu',\n",
    "                 kernel_regularizer=regularizers.l2(0.01)))\n",
    "model_r.add(Dense(7, activation='softmax',\n",
    "                 kernel_regularizer=regularizers.l2(0.01)))\n",
    "\n",
    "model_r.compile(loss='categorical_crossentropy', optimizer='adam', metrics=['acc'])\n",
    "\n",
    "history_r = model_r.fit(X_train_s, y_train, validation_data=(X_test_s, y_test),\n",
    "                       epochs=42, batch_size=None)"
   ]
  },
  {
   "cell_type": "code",
   "execution_count": 18,
   "metadata": {},
   "outputs": [
    {
     "data": {
      "image/png": "[encoded data removed]",
      "text/plain": [
       "<Figure size 432x288 with 1 Axes>"
      ]
     },
     "metadata": {
      "needs_background": "light"
     },
     "output_type": "display_data"
    }
   ],
   "source": [
    "plt.plot(history_r.history['loss'], label='Training loss')\n",
    "plt.plot(history_r.history['val_loss'], label='Testing loss')\n",
    "plt.legend();"
   ]
  },
  {
   "cell_type": "markdown",
   "metadata": {},
   "source": [
    "### Dropout"
   ]
  },
  {
   "cell_type": "markdown",
   "metadata": {},
   "source": [
    "Here's a new regularization idea: Turn some neurons off during training. We'll assign probabilities of 'dropout' and then let fate decide.\n",
    "\n",
    "$\\rightarrow$ Why is this a good idea? *Is* it a good idea?\n",
    "\n",
    "Was this sort of regularization available to us before? Why (not)?"
   ]
  },
  {
   "cell_type": "code",
   "execution_count": 19,
   "metadata": {},
   "outputs": [
    {
     "name": "stdout",
     "output_type": "stream",
     "text": [
      "WARNING:tensorflow:From /anaconda3/lib/python3.7/site-packages/keras/backend/tensorflow_backend.py:3445: calling dropout (from tensorflow.python.ops.nn_ops) with keep_prob is deprecated and will be removed in a future version.\n",
      "Instructions for updating:\n",
      "Please use `rate` instead of `keep_prob`. Rate should be set to `rate = 1 - keep_prob`.\n",
      "Train on 4872 samples, validate on 1625 samples\n",
      "Epoch 1/42\n",
      "4872/4872 [==============================] - 1s 104us/step - loss: 1.7338 - acc: 0.3054 - val_loss: 1.4663 - val_acc: 0.4271\n",
      "Epoch 2/42\n",
      "4872/4872 [==============================] - 0s 44us/step - loss: 1.3866 - acc: 0.4331 - val_loss: 1.2760 - val_acc: 0.4812\n",
      "Epoch 3/42\n",
      "4872/4872 [==============================] - 0s 42us/step - loss: 1.2732 - acc: 0.4676 - val_loss: 1.2092 - val_acc: 0.4972\n",
      "Epoch 4/42\n",
      "4872/4872 [==============================] - 0s 40us/step - loss: 1.2243 - acc: 0.4828 - val_loss: 1.1752 - val_acc: 0.5120\n",
      "Epoch 5/42\n",
      "4872/4872 [==============================] - 0s 40us/step - loss: 1.1984 - acc: 0.4936 - val_loss: 1.1534 - val_acc: 0.5286\n",
      "Epoch 6/42\n",
      "4872/4872 [==============================] - 0s 40us/step - loss: 1.1687 - acc: 0.5109 - val_loss: 1.1368 - val_acc: 0.5249\n",
      "Epoch 7/42\n",
      "4872/4872 [==============================] - 0s 44us/step - loss: 1.1671 - acc: 0.5070 - val_loss: 1.1267 - val_acc: 0.5292\n",
      "Epoch 8/42\n",
      "4872/4872 [==============================] - 0s 42us/step - loss: 1.1509 - acc: 0.5099 - val_loss: 1.1203 - val_acc: 0.5323\n",
      "Epoch 9/42\n",
      "4872/4872 [==============================] - 0s 41us/step - loss: 1.1351 - acc: 0.5131 - val_loss: 1.1125 - val_acc: 0.5317\n",
      "Epoch 10/42\n",
      "4872/4872 [==============================] - 0s 41us/step - loss: 1.1320 - acc: 0.5222 - val_loss: 1.1081 - val_acc: 0.5335\n",
      "Epoch 11/42\n",
      "4872/4872 [==============================] - 0s 39us/step - loss: 1.1250 - acc: 0.5232 - val_loss: 1.1022 - val_acc: 0.5329\n",
      "Epoch 12/42\n",
      "4872/4872 [==============================] - 0s 41us/step - loss: 1.1132 - acc: 0.5343 - val_loss: 1.0982 - val_acc: 0.5372\n",
      "Epoch 13/42\n",
      "4872/4872 [==============================] - 0s 39us/step - loss: 1.1066 - acc: 0.5261 - val_loss: 1.0953 - val_acc: 0.5415\n",
      "Epoch 14/42\n",
      "4872/4872 [==============================] - 0s 41us/step - loss: 1.0994 - acc: 0.5308 - val_loss: 1.0929 - val_acc: 0.5366\n",
      "Epoch 15/42\n",
      "4872/4872 [==============================] - 0s 41us/step - loss: 1.1020 - acc: 0.5328 - val_loss: 1.0895 - val_acc: 0.5403\n",
      "Epoch 16/42\n",
      "4872/4872 [==============================] - 0s 41us/step - loss: 1.1001 - acc: 0.5367 - val_loss: 1.0887 - val_acc: 0.5378\n",
      "Epoch 17/42\n",
      "4872/4872 [==============================] - 0s 41us/step - loss: 1.0897 - acc: 0.5372 - val_loss: 1.0865 - val_acc: 0.5415\n",
      "Epoch 18/42\n",
      "4872/4872 [==============================] - 0s 40us/step - loss: 1.0892 - acc: 0.5433 - val_loss: 1.0853 - val_acc: 0.5452\n",
      "Epoch 19/42\n",
      "4872/4872 [==============================] - 0s 37us/step - loss: 1.0954 - acc: 0.5357 - val_loss: 1.0846 - val_acc: 0.5434\n",
      "Epoch 20/42\n",
      "4872/4872 [==============================] - 0s 40us/step - loss: 1.0956 - acc: 0.5314 - val_loss: 1.0833 - val_acc: 0.5397\n",
      "Epoch 21/42\n",
      "4872/4872 [==============================] - 0s 38us/step - loss: 1.0946 - acc: 0.5386 - val_loss: 1.0830 - val_acc: 0.5385\n",
      "Epoch 22/42\n",
      "4872/4872 [==============================] - 0s 40us/step - loss: 1.0857 - acc: 0.5353 - val_loss: 1.0808 - val_acc: 0.5440\n",
      "Epoch 23/42\n",
      "4872/4872 [==============================] - 0s 38us/step - loss: 1.0820 - acc: 0.5413 - val_loss: 1.0784 - val_acc: 0.5360\n",
      "Epoch 24/42\n",
      "4872/4872 [==============================] - 0s 39us/step - loss: 1.0772 - acc: 0.5523 - val_loss: 1.0781 - val_acc: 0.5348\n",
      "Epoch 25/42\n",
      "4872/4872 [==============================] - 0s 37us/step - loss: 1.0844 - acc: 0.5470 - val_loss: 1.0783 - val_acc: 0.5415\n",
      "Epoch 26/42\n",
      "4872/4872 [==============================] - 0s 42us/step - loss: 1.0757 - acc: 0.5404 - val_loss: 1.0771 - val_acc: 0.5409\n",
      "Epoch 27/42\n",
      "4872/4872 [==============================] - 0s 41us/step - loss: 1.0823 - acc: 0.5390 - val_loss: 1.0760 - val_acc: 0.5403\n",
      "Epoch 28/42\n",
      "4872/4872 [==============================] - 0s 41us/step - loss: 1.0795 - acc: 0.5433 - val_loss: 1.0748 - val_acc: 0.5397\n",
      "Epoch 29/42\n",
      "4872/4872 [==============================] - 0s 40us/step - loss: 1.0813 - acc: 0.5378 - val_loss: 1.0740 - val_acc: 0.5385\n",
      "Epoch 30/42\n",
      "4872/4872 [==============================] - 0s 41us/step - loss: 1.0765 - acc: 0.5458 - val_loss: 1.0727 - val_acc: 0.5397\n",
      "Epoch 31/42\n",
      "4872/4872 [==============================] - 0s 42us/step - loss: 1.0765 - acc: 0.5439 - val_loss: 1.0714 - val_acc: 0.5385\n",
      "Epoch 32/42\n",
      "4872/4872 [==============================] - 0s 40us/step - loss: 1.0758 - acc: 0.5495 - val_loss: 1.0711 - val_acc: 0.5391\n",
      "Epoch 33/42\n",
      "4872/4872 [==============================] - 0s 40us/step - loss: 1.0782 - acc: 0.5499 - val_loss: 1.0706 - val_acc: 0.5415\n",
      "Epoch 34/42\n",
      "4872/4872 [==============================] - 0s 44us/step - loss: 1.0667 - acc: 0.5503 - val_loss: 1.0695 - val_acc: 0.5403\n",
      "Epoch 35/42\n",
      "4872/4872 [==============================] - 0s 39us/step - loss: 1.0751 - acc: 0.5458 - val_loss: 1.0697 - val_acc: 0.5397\n",
      "Epoch 36/42\n",
      "4872/4872 [==============================] - 0s 39us/step - loss: 1.0717 - acc: 0.5501 - val_loss: 1.0683 - val_acc: 0.5409\n",
      "Epoch 37/42\n",
      "4872/4872 [==============================] - 0s 39us/step - loss: 1.0755 - acc: 0.5462 - val_loss: 1.0682 - val_acc: 0.5409\n",
      "Epoch 38/42\n",
      "4872/4872 [==============================] - 0s 37us/step - loss: 1.0722 - acc: 0.5456 - val_loss: 1.0668 - val_acc: 0.5415\n",
      "Epoch 39/42\n",
      "4872/4872 [==============================] - 0s 39us/step - loss: 1.0732 - acc: 0.5468 - val_loss: 1.0661 - val_acc: 0.5446\n",
      "Epoch 40/42\n",
      "4872/4872 [==============================] - 0s 37us/step - loss: 1.0690 - acc: 0.5538 - val_loss: 1.0644 - val_acc: 0.5415\n",
      "Epoch 41/42\n",
      "4872/4872 [==============================] - 0s 39us/step - loss: 1.0676 - acc: 0.5429 - val_loss: 1.0647 - val_acc: 0.5409\n",
      "Epoch 42/42\n",
      "4872/4872 [==============================] - 0s 40us/step - loss: 1.0656 - acc: 0.5503 - val_loss: 1.0650 - val_acc: 0.5391\n"
     ]
    }
   ],
   "source": [
    "from keras.layers import Dropout\n",
    "\n",
    "model_d = Sequential()\n",
    "\n",
    "n_input = X_train_s.shape[1]\n",
    "n_hidden = n_input\n",
    "\n",
    "model_d.add(Dense(n_hidden, input_dim=n_input, activation='relu'))\n",
    "model_d.add(Dropout(rate=0.2))\n",
    "model_d.add(Dense(7, activation='softmax'))\n",
    "\n",
    "model_d.compile(loss='categorical_crossentropy', optimizer='adam', metrics=['acc'])\n",
    "\n",
    "history_d = model_d.fit(X_train_s, y_train, validation_data=(X_test_s, y_test),\n",
    "                       epochs=42, batch_size=None)"
   ]
  },
  {
   "cell_type": "code",
   "execution_count": 20,
   "metadata": {},
   "outputs": [
    {
     "data": {
      "image/png": "[encoded data removed]",
      "text/plain": [
       "<Figure size 432x288 with 1 Axes>"
      ]
     },
     "metadata": {
      "needs_background": "light"
     },
     "output_type": "display_data"
    }
   ],
   "source": [
    "plt.plot(history_d.history['loss'], label='Training loss')\n",
    "plt.plot(history_d.history['val_loss'], label='Testing loss')\n",
    "plt.legend();"
   ]
  },
  {
   "cell_type": "code",
   "execution_count": 21,
   "metadata": {},
   "outputs": [
    {
     "data": {
      "text/plain": [
       "(0.5502873563218391, 0.5390769227834848)"
      ]
     },
     "execution_count": 21,
     "metadata": {},
     "output_type": "execute_result"
    }
   ],
   "source": [
    "history_d.history['acc'][-1], history_d.history['val_acc'][-1]"
   ]
  },
  {
   "cell_type": "markdown",
   "metadata": {},
   "source": [
    "### Early Stopping"
   ]
  },
  {
   "cell_type": "markdown",
   "metadata": {},
   "source": [
    "Another idea is to try to terminate the training process early, even before some pre-specified number of epochs.\n",
    "\n",
    "$\\rightarrow$ Why is this a good idea? *Is* it a good idea?\n",
    "\n",
    "Was this sort of regularization available to us before? Why (not)?"
   ]
  },
  {
   "cell_type": "code",
   "execution_count": 22,
   "metadata": {},
   "outputs": [],
   "source": [
    "from keras.callbacks import EarlyStopping"
   ]
  },
  {
   "cell_type": "code",
   "execution_count": 23,
   "metadata": {},
   "outputs": [
    {
     "name": "stdout",
     "output_type": "stream",
     "text": [
      "Train on 4872 samples, validate on 1625 samples\n",
      "Epoch 1/42\n",
      "4872/4872 [==============================] - 1s 104us/step - loss: 1.7338 - acc: 0.3727 - val_loss: 1.5046 - val_acc: 0.4418\n",
      "Epoch 2/42\n",
      "4872/4872 [==============================] - 0s 39us/step - loss: 1.3734 - acc: 0.4651 - val_loss: 1.3045 - val_acc: 0.4738\n",
      "Epoch 3/42\n",
      "4872/4872 [==============================] - 0s 41us/step - loss: 1.2327 - acc: 0.5045 - val_loss: 1.2227 - val_acc: 0.4978\n",
      "Epoch 4/42\n",
      "4872/4872 [==============================] - 0s 40us/step - loss: 1.1719 - acc: 0.5255 - val_loss: 1.1841 - val_acc: 0.5206\n",
      "Epoch 5/42\n",
      "4872/4872 [==============================] - 0s 39us/step - loss: 1.1401 - acc: 0.5402 - val_loss: 1.1612 - val_acc: 0.5305\n",
      "Epoch 6/42\n",
      "4872/4872 [==============================] - 0s 40us/step - loss: 1.1198 - acc: 0.5468 - val_loss: 1.1456 - val_acc: 0.5305\n",
      "Epoch 7/42\n",
      "4872/4872 [==============================] - 0s 37us/step - loss: 1.1065 - acc: 0.5536 - val_loss: 1.1348 - val_acc: 0.5323\n",
      "Epoch 8/42\n",
      "4872/4872 [==============================] - 0s 40us/step - loss: 1.0962 - acc: 0.5530 - val_loss: 1.1273 - val_acc: 0.5348\n",
      "Epoch 9/42\n",
      "4872/4872 [==============================] - 0s 40us/step - loss: 1.0886 - acc: 0.5554 - val_loss: 1.1209 - val_acc: 0.5348\n",
      "Epoch 10/42\n",
      "4872/4872 [==============================] - 0s 39us/step - loss: 1.0828 - acc: 0.5550 - val_loss: 1.1166 - val_acc: 0.5317\n",
      "Epoch 11/42\n",
      "4872/4872 [==============================] - 0s 39us/step - loss: 1.0782 - acc: 0.5569 - val_loss: 1.1117 - val_acc: 0.5329\n",
      "Epoch 12/42\n",
      "4872/4872 [==============================] - 0s 40us/step - loss: 1.0736 - acc: 0.5548 - val_loss: 1.1097 - val_acc: 0.5292\n",
      "Epoch 13/42\n",
      "4872/4872 [==============================] - 0s 38us/step - loss: 1.0697 - acc: 0.5593 - val_loss: 1.1058 - val_acc: 0.5385\n",
      "Epoch 14/42\n",
      "4872/4872 [==============================] - 0s 39us/step - loss: 1.0668 - acc: 0.5519 - val_loss: 1.1022 - val_acc: 0.5440\n",
      "Epoch 15/42\n",
      "4872/4872 [==============================] - 0s 44us/step - loss: 1.0640 - acc: 0.5540 - val_loss: 1.1014 - val_acc: 0.5385\n",
      "Epoch 16/42\n",
      "4872/4872 [==============================] - 0s 48us/step - loss: 1.0613 - acc: 0.5579 - val_loss: 1.0987 - val_acc: 0.5397\n",
      "Epoch 17/42\n",
      "4872/4872 [==============================] - 0s 48us/step - loss: 1.0589 - acc: 0.5612 - val_loss: 1.0970 - val_acc: 0.5428\n",
      "Epoch 18/42\n",
      "4872/4872 [==============================] - 0s 44us/step - loss: 1.0572 - acc: 0.5552 - val_loss: 1.0945 - val_acc: 0.5397\n",
      "Epoch 19/42\n",
      "4872/4872 [==============================] - 0s 48us/step - loss: 1.0550 - acc: 0.5573 - val_loss: 1.0924 - val_acc: 0.5415\n",
      "Epoch 20/42\n",
      "4872/4872 [==============================] - 0s 41us/step - loss: 1.0532 - acc: 0.5577 - val_loss: 1.0906 - val_acc: 0.5477\n",
      "Epoch 21/42\n",
      "4872/4872 [==============================] - 0s 45us/step - loss: 1.0512 - acc: 0.5603 - val_loss: 1.0907 - val_acc: 0.5415\n",
      "Epoch 00021: early stopping\n"
     ]
    }
   ],
   "source": [
    "from keras.callbacks import EarlyStopping\n",
    "\n",
    "model_es = Sequential()\n",
    "\n",
    "n_input = X_train_s.shape[1]\n",
    "n_hidden = n_input\n",
    "\n",
    "model_es.add(Dense(n_hidden, input_dim=n_input, activation='relu'))\n",
    "model_es.add(Dense(7, activation='softmax'))\n",
    "\n",
    "model_es.compile(loss='categorical_crossentropy', optimizer='adam', metrics=['acc'])\n",
    "\n",
    "early_stop = EarlyStopping(monitor='val_loss', min_delta=1e-08, patience=0, verbose=1, mode='auto')\n",
    "\n",
    "callbacks_list = [early_stop]\n",
    "\n",
    "history_es = model_es.fit(X_train_s, y_train, validation_data=(X_test_s, y_test),\n",
    "                         epochs=42, batch_size=None, callbacks=callbacks_list)"
   ]
  },
  {
   "cell_type": "code",
   "execution_count": 24,
   "metadata": {},
   "outputs": [
    {
     "data": {
      "image/png": "[encoded data removed]",
      "text/plain": [
       "<Figure size 432x288 with 1 Axes>"
      ]
     },
     "metadata": {
      "needs_background": "light"
     },
     "output_type": "display_data"
    }
   ],
   "source": [
    "plt.plot(history_es.history['loss'], label='Training loss')\n",
    "plt.plot(history_es.history['val_loss'], label='Testing loss')\n",
    "plt.legend();"
   ]
  },
  {
   "cell_type": "code",
   "execution_count": null,
   "metadata": {},
   "outputs": [],
   "source": []
  }
 ],
 "metadata": {
  "kernelspec": {
   "display_name": "Python 3",
   "language": "python",
   "name": "python3"
  },
  "language_info": {
   "codemirror_mode": {
    "name": "ipython",
    "version": 3
   },
   "file_extension": ".py",
   "mimetype": "text/x-python",
   "name": "python",
   "nbconvert_exporter": "python",
   "pygments_lexer": "ipython3",
   "version": "3.7.1"
  }
 },
 "nbformat": 4,
 "nbformat_minor": 2
}
